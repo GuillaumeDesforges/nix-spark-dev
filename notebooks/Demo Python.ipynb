{
 "cells": [
  {
   "cell_type": "code",
   "execution_count": 1,
   "id": "6957568d-88cf-4f69-beee-f0016404c6cf",
   "metadata": {},
   "outputs": [],
   "source": [
    "import pyspark\n",
    "from pyspark.sql import SparkSession\n",
    "from pyspark.conf import SparkConf\n",
    "from pyspark.sql import Row\n",
    "from pyspark.sql.functions import *"
   ]
  },
  {
   "cell_type": "code",
   "execution_count": 2,
   "id": "bf40eb95-db13-4aa8-b9de-85bfef90e824",
   "metadata": {},
   "outputs": [
    {
     "name": "stdout",
     "output_type": "stream",
     "text": [
      "3.1.2\n"
     ]
    }
   ],
   "source": [
    "print(pyspark.__version__)"
   ]
  },
  {
   "cell_type": "code",
   "execution_count": 3,
   "id": "2b6ebee0-b9be-422b-adb0-c4efee3c97fe",
   "metadata": {},
   "outputs": [
    {
     "name": "stdout",
     "output_type": "stream",
     "text": [
      "2022-01-27 17:42:54,403 WARN  [main] util.Utils (Logging.scala:logWarning(69)) - Your hostname, poseideep resolves to a loopback address: 127.0.0.2; using 192.168.1.40 instead (on interface enp3s0)\n",
      "2022-01-27 17:42:54,405 WARN  [main] util.Utils (Logging.scala:logWarning(69)) - Set SPARK_LOCAL_IP if you need to bind to another address\n",
      "2022-01-27 17:42:54,622 WARN  [main] util.NativeCodeLoader (NativeCodeLoader.java:<clinit>(60)) - Unable to load native-hadoop library for your platform... using builtin-java classes where applicable\n"
     ]
    },
    {
     "name": "stderr",
     "output_type": "stream",
     "text": [
      "Setting default log level to \"WARN\".\n",
      "To adjust logging level use sc.setLogLevel(newLevel). For SparkR, use setLogLevel(newLevel).\n"
     ]
    },
    {
     "name": "stdout",
     "output_type": "stream",
     "text": [
      "3.1.2\n"
     ]
    }
   ],
   "source": [
    "c = SparkConf()\n",
    "spark = SparkSession.builder.config(conf=c).master(\"spark://0.0.0.0:7077\").getOrCreate()\n",
    "print(spark.sparkContext.version)"
   ]
  },
  {
   "cell_type": "code",
   "execution_count": 4,
   "id": "9986aa01-0f1a-4229-99a7-f270fe6a9f95",
   "metadata": {},
   "outputs": [
    {
     "name": "stderr",
     "output_type": "stream",
     "text": [
      "[Stage 0:>                                                          (0 + 1) / 1]\r"
     ]
    },
    {
     "name": "stdout",
     "output_type": "stream",
     "text": [
      "+------------+\n",
      "|           a|\n",
      "+------------+\n",
      "|hello world!|\n",
      "+------------+\n",
      "\n"
     ]
    },
    {
     "name": "stderr",
     "output_type": "stream",
     "text": [
      "                                                                                \r"
     ]
    }
   ],
   "source": [
    "spark.createDataFrame([Row(a=\"hello\")]).select(concat(col(\"a\"), lit(\" world!\")).alias(\"a\")).show()"
   ]
  },
  {
   "cell_type": "code",
   "execution_count": 5,
   "id": "f497ebc3-b60d-4480-b571-9249acc41aa2",
   "metadata": {},
   "outputs": [
    {
     "name": "stdout",
     "output_type": "stream",
     "text": [
      "+----------+\n",
      "|         a|\n",
      "+----------+\n",
      "|hello you!|\n",
      "+----------+\n",
      "\n"
     ]
    }
   ],
   "source": [
    "some_udf = udf(lambda x: x + \" you!\")\n",
    "spark.createDataFrame([Row(a=\"hello\")]).select(some_udf(col(\"a\")).alias(\"a\")).show()"
   ]
  },
  {
   "cell_type": "code",
   "execution_count": null,
   "id": "84a75222-8046-444d-85a1-ec4cc3536c93",
   "metadata": {},
   "outputs": [],
   "source": []
  }
 ],
 "metadata": {
  "kernelspec": {
   "display_name": "Python3 - python-env",
   "language": "python",
   "name": "ipython_python-env"
  },
  "language_info": {
   "codemirror_mode": {
    "name": "ipython",
    "version": 3
   },
   "file_extension": ".py",
   "mimetype": "text/x-python",
   "name": "python",
   "nbconvert_exporter": "python",
   "pygments_lexer": "ipython3",
   "version": "3.9.9"
  }
 },
 "nbformat": 4,
 "nbformat_minor": 5
}
